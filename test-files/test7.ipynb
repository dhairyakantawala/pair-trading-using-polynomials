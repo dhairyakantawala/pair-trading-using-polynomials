{
 "cells": [
  {
   "cell_type": "markdown",
   "metadata": {},
   "source": [
    "optimise the value of closness and/or make pair selection better"
   ]
  },
  {
   "cell_type": "code",
   "execution_count": 188,
   "metadata": {},
   "outputs": [],
   "source": [
    "import pandas as pd\n",
    "import numpy as np\n",
    "import statsmodels.api as sm\n",
    "from statsmodels.tsa.stattools import adfuller\n",
    "from itertools import combinations\n",
    "import tqdm\n",
    "import matplotlib.pyplot as plt\n",
    "import seaborn as sns\n",
    "from statsmodels.tsa.stattools import adfuller\n",
    "from statsmodels.tsa.stattools import kpss\n",
    "import warnings\n",
    "from statsmodels.stats.diagnostic import acorr_ljungbox\n",
    "from statsmodels.sandbox.stats.runs import runstest_1samp\n",
    "from scipy.stats import shapiro, anderson, kstest\n",
    "import numpy as np\n",
    "from statsmodels.stats.diagnostic import het_arch\n",
    "\n",
    "\n",
    "data = pd.read_csv('data/daily_close.csv', index_col=[0])\n",
    "X = data['ADANIENT']"
   ]
  },
  {
   "cell_type": "markdown",
   "metadata": {},
   "source": [
    "# pair selection test"
   ]
  },
  {
   "cell_type": "markdown",
   "metadata": {},
   "source": [
    "## test for stationarity (constant mean and variance)"
   ]
  },
  {
   "cell_type": "markdown",
   "metadata": {},
   "source": [
    "| Test                              | Purpose                                         | Code                      |\n",
    "| --------------------------------- | ----------------------------------------------- | ------------------------- |\n",
    "| **Augmented Dickey-Fuller (ADF)** | Check for **unit root** (i.e. non-stationarity) | `adfuller(X)`             |\n",
    "| **KPSS Test** (optional)          | Confirm stationarity from the other side        | `kpss(X, regression='c')` |"
   ]
  },
  {
   "cell_type": "code",
   "execution_count": 189,
   "metadata": {},
   "outputs": [
    {
     "name": "stdout",
     "output_type": "stream",
     "text": [
      "ADF p-value: 0.461900433557456\n",
      "KPSS p-value: 0.01\n"
     ]
    }
   ],
   "source": [
    "with warnings.catch_warnings():\n",
    "    warnings.simplefilter(\"ignore\")\n",
    "    print(\"ADF p-value:\", adfuller(X)[1])\n",
    "    print(\"KPSS p-value:\", kpss(X, regression='c')[1])"
   ]
  },
  {
   "cell_type": "markdown",
   "metadata": {},
   "source": [
    "## test for autocorrelation / independence"
   ]
  },
  {
   "cell_type": "markdown",
   "metadata": {},
   "source": [
    "| Test               | Purpose                                 | Code                                           |\n",
    "| ------------------ | --------------------------------------- | ---------------------------------------------- |\n",
    "| **Ljung–Box Test** | Check if residuals are white noise      | `acorr_ljungbox(X, lags=[10], return_df=True)` |\n",
    "| **Runs Test**      | Check for randomness above/below median | `runstest_1samp(X)`                            |\n"
   ]
  },
  {
   "cell_type": "code",
   "execution_count": 190,
   "metadata": {},
   "outputs": [
    {
     "name": "stdout",
     "output_type": "stream",
     "text": [
      "Ljung-Box p-value: 0.0\n",
      "Runs Test p-value: 2.812921911308517e-290\n"
     ]
    }
   ],
   "source": [
    "print(\"Ljung-Box p-value:\", acorr_ljungbox(X, lags=[10], return_df=True)['lb_pvalue'].iloc[0])\n",
    "print(\"Runs Test p-value:\", runstest_1samp(X)[1])"
   ]
  },
  {
   "cell_type": "markdown",
   "metadata": {},
   "source": [
    "## test for normality of noise"
   ]
  },
  {
   "cell_type": "markdown",
   "metadata": {},
   "source": [
    "| Test                        | Purpose                                  | Code                        |\n",
    "| --------------------------- | ---------------------------------------- | --------------------------- |\n",
    "| **Shapiro–Wilk Test**       | Tests normality (small samples)          | `shapiro(X)`                |\n",
    "| **Anderson–Darling Test**   | More powerful than Shapiro               | `anderson(X, dist='norm')`  |\n",
    "| **Kolmogorov–Smirnov Test** | Test against normal with est. parameters | `kstest((X - μ)/σ, 'norm')` |\n"
   ]
  },
  {
   "cell_type": "code",
   "execution_count": 191,
   "metadata": {},
   "outputs": [
    {
     "name": "stdout",
     "output_type": "stream",
     "text": [
      "Shapiro p-value: 1.954482567636484e-24\n",
      "Anderson p-value: 15.0\n",
      "K-S p-value: 2.7194915768252434e-18\n"
     ]
    }
   ],
   "source": [
    "print(\"Shapiro p-value:\", shapiro(X)[1])\n",
    "print(\"Anderson p-value:\", anderson(X, dist='norm').significance_level[0])\n",
    "mu, sigma = np.mean(X), np.std(X)\n",
    "print(\"K-S p-value:\", kstest((X - mu)/sigma, 'norm')[1])"
   ]
  },
  {
   "cell_type": "markdown",
   "metadata": {},
   "source": [
    "## test for homoscedasticity (constant variance)"
   ]
  },
  {
   "cell_type": "markdown",
   "metadata": {},
   "source": [
    "| Test          | Purpose                              | Code          |\n",
    "| ------------- | ------------------------------------ | ------------- |\n",
    "| **ARCH Test** | Checks if variance is time-dependent | `het_arch(X)` |"
   ]
  },
  {
   "cell_type": "code",
   "execution_count": 192,
   "metadata": {},
   "outputs": [
    {
     "name": "stdout",
     "output_type": "stream",
     "text": [
      "ARCH Test p-value: 2.604601729762402e-290\n"
     ]
    }
   ],
   "source": [
    "print(\"ARCH Test p-value:\", het_arch(X)[1])"
   ]
  },
  {
   "cell_type": "markdown",
   "metadata": {},
   "source": [
    "## filter\n",
    "| Test                 | Desired Outcome                         |\n",
    "| -------------------- | --------------------------------------- |\n",
    "| ADF                  | **p < 0.05** (stationary)               |\n",
    "| KPSS                 | **p > 0.05** (stationary)               |\n",
    "| Ljung–Box            | **p > 0.05** (no autocorr)              |\n",
    "| Runs Test            | **p > 0.05** (random signs)             |\n",
    "| Shapiro/Anderson/K-S | **p > 0.05** (normality)                |\n",
    "| ARCH                 | **p > 0.05** (no time-varying variance) |\n"
   ]
  },
  {
   "cell_type": "code",
   "execution_count": 193,
   "metadata": {},
   "outputs": [],
   "source": [
    "def return_metric_given_spread(spread_X):\n",
    "    X = spread_X\n",
    "    p_values = []\n",
    "    with warnings.catch_warnings():\n",
    "        warnings.simplefilter(\"ignore\")\n",
    "        p_values.append((\"ADF\", adfuller(X)[1], adfuller(X)[1] < 0.05))\n",
    "        p_values.append((\"KPSS\", kpss(X, regression='c')[1], kpss(X, regression='c')[1] > 0.05))\n",
    "        p_values.append((\"Ljung-Box\", acorr_ljungbox(X, lags=[10], return_df=True)['lb_pvalue'].iloc[0], acorr_ljungbox(X, lags=[10], return_df=True)['lb_pvalue'].iloc[0] > 0.05))\n",
    "        p_values.append((\"Runs Test\", runstest_1samp(X)[1], runstest_1samp(X)[1] > 0.05))\n",
    "        p_values.append((\"Shapiro\", shapiro(X)[1], shapiro(X)[1] > 0.05))\n",
    "        p_values.append((\"Anderson\", anderson(X, dist='norm').significance_level[0], anderson(X, dist='norm').significance_level[0] > 0.05))\n",
    "        mu, sigma = np.mean(X), np.std(X)\n",
    "        p_values.append((\"K-S\", kstest((X - mu)/sigma, 'norm')[1], kstest((X - mu)/sigma, 'norm')[1] > 0.05))\n",
    "        p_values.append((\"ARCH Test\", het_arch(X)[1], het_arch(X)[1] > 0.05))\n",
    "    return p_values\n",
    "    \n"
   ]
  },
  {
   "cell_type": "code",
   "execution_count": 194,
   "metadata": {},
   "outputs": [],
   "source": [
    "def return_metric(ticker1, ticker2):\n",
    "    S1 = data[:int(len(data)*0.7)][ticker1]\n",
    "    S2 = data[:int(len(data)*0.7)][ticker2]\n",
    "    X = sm.add_constant(S2)\n",
    "    model = sm.OLS(S1, X).fit()\n",
    "    spread_X = model.resid\n",
    "    return return_metric_given_spread(spread_X)"
   ]
  },
  {
   "cell_type": "code",
   "execution_count": 195,
   "metadata": {},
   "outputs": [],
   "source": [
    "def value(ticker1, ticker2):\n",
    "    passes = 0;\n",
    "    matrix = return_metric(ticker1, ticker2)\n",
    "    for _, _, result in matrix:\n",
    "        if matrix[0][2] == True:\n",
    "            if result == True:\n",
    "                passes+=1\n",
    "    return passes"
   ]
  },
  {
   "cell_type": "code",
   "execution_count": 203,
   "metadata": {},
   "outputs": [
    {
     "name": "stdout",
     "output_type": "stream",
     "text": [
      "1225.0\n"
     ]
    },
    {
     "data": {
      "text/plain": [
       "1225"
      ]
     },
     "execution_count": 203,
     "metadata": {},
     "output_type": "execute_result"
    }
   ],
   "source": [
    "stock_pairs = list(combinations(data.columns, 2))\n",
    "n = len(data.columns)\n",
    "print(n*(n-1)/2)\n",
    "len(stock_pairs)"
   ]
  },
  {
   "cell_type": "code",
   "execution_count": 197,
   "metadata": {},
   "outputs": [
    {
     "name": "stderr",
     "output_type": "stream",
     "text": [
      "100%|██████████| 1225/1225 [01:31<00:00, 13.32it/s]\n"
     ]
    }
   ],
   "source": [
    "value_matrix = pd.DataFrame(np.zeros((50, 50), dtype=int), columns=data.columns, index=data.columns)\n",
    "list_of_pairs = []\n",
    "for stock1, stock2 in tqdm.tqdm(stock_pairs):\n",
    "    value_matrix.loc[stock1, stock2] = value(stock1, stock2)\n",
    "    value_matrix.loc[stock2, stock1] = value_matrix.loc[stock1, stock2]\n",
    "    if value_matrix.loc[stock1, stock2] > 0:\n",
    "        list_of_pairs.append((stock1, stock2, value_matrix.loc[stock1, stock2]))"
   ]
  },
  {
   "cell_type": "code",
   "execution_count": 201,
   "metadata": {},
   "outputs": [
    {
     "name": "stdout",
     "output_type": "stream",
     "text": [
      "[('ADANIPORTS', 'GRASIM', 4), ('ADANIPORTS', 'TATACONSUM', 4), ('ASIANPAINT', 'GRASIM', 4), ('ASIANPAINT', 'TATACONSUM', 4), ('BAJFINANCE', 'GRASIM', 4), ('BAJFINANCE', 'HINDALCO', 4), ('BAJFINANCE', 'TATAMOTORS', 4), ('BPCL', 'POWERGRID', 4), ('BHARTIARTL', 'POWERGRID', 4), ('BHARTIARTL', 'SUNPHARMA', 4), ('BHARTIARTL', 'TITAN', 4), ('EICHERMOT', 'ICICIBANK', 4), ('EICHERMOT', 'M&M', 4), ('HCLTECH', 'TATACONSUM', 4), ('HDFCBANK', 'JSWSTEEL', 4), ('HINDUNILVR', 'LT', 4), ('HINDUNILVR', 'NESTLEIND', 4), ('HINDUNILVR', 'TATAMOTORS', 4), ('HINDUNILVR', 'ULTRACEMCO', 4), ('NESTLEIND', 'SUNPHARMA', 4), ('SBILIFE', 'SBIN', 4), ('TCS', 'TATACONSUM', 4), ('ADANIPORTS', 'APOLLOHOSP', 3), ('ADANIPORTS', 'ASIANPAINT', 3), ('ADANIPORTS', 'BAJFINANCE', 3), ('ADANIPORTS', 'CIPLA', 3), ('ADANIPORTS', 'HINDALCO', 3), ('ADANIPORTS', 'JSWSTEEL', 3), ('APOLLOHOSP', 'GRASIM', 3), ('APOLLOHOSP', 'HINDALCO', 3), ('APOLLOHOSP', 'JSWSTEEL', 3), ('APOLLOHOSP', 'LTIM', 3), ('APOLLOHOSP', 'TCS', 3), ('ASIANPAINT', 'HINDALCO', 3), ('ASIANPAINT', 'JSWSTEEL', 3), ('AXISBANK', 'LT', 3), ('AXISBANK', 'MARUTI', 3), ('BAJAJ-AUTO', 'HINDUNILVR', 3), ('BAJFINANCE', 'BAJAJFINSV', 3), ('BAJFINANCE', 'JSWSTEEL', 3), ('BAJFINANCE', 'TATASTEEL', 3), ('BAJAJFINSV', 'HINDALCO', 3), ('BPCL', 'BHARTIARTL', 3), ('BPCL', 'M&M', 3), ('BPCL', 'RELIANCE', 3), ('BHARTIARTL', 'ICICIBANK', 3), ('BRITANNIA', 'LT', 3), ('BRITANNIA', 'M&M', 3), ('CIPLA', 'RELIANCE', 3), ('DIVISLAB', 'WIPRO', 3), ('EICHERMOT', 'MARUTI', 3), ('EICHERMOT', 'POWERGRID', 3), ('EICHERMOT', 'SBIN', 3), ('GRASIM', 'HDFCBANK', 3), ('GRASIM', 'JSWSTEEL', 3), ('HCLTECH', 'HDFCBANK', 3), ('HCLTECH', 'HINDALCO', 3), ('HCLTECH', 'JSWSTEEL', 3), ('HCLTECH', 'TCS', 3), ('HCLTECH', 'TATASTEEL', 3), ('HDFCBANK', 'HINDALCO', 3), ('HDFCBANK', 'ULTRACEMCO', 3), ('HINDALCO', 'INFY', 3), ('HINDALCO', 'TATACONSUM', 3), ('HINDALCO', 'TATASTEEL', 3), ('HINDUNILVR', 'ICICIBANK', 3), ('HINDUNILVR', 'ITC', 3), ('HINDUNILVR', 'JSWSTEEL', 3), ('HINDUNILVR', 'M&M', 3), ('HINDUNILVR', 'POWERGRID', 3), ('HINDUNILVR', 'SBILIFE', 3), ('HINDUNILVR', 'SHRIRAMFIN', 3), ('HINDUNILVR', 'SBIN', 3), ('HINDUNILVR', 'SUNPHARMA', 3), ('HINDUNILVR', 'TCS', 3), ('HINDUNILVR', 'TATACONSUM', 3), ('HINDUNILVR', 'TATASTEEL', 3), ('HINDUNILVR', 'TITAN', 3), ('ICICIBANK', 'ONGC', 3), ('ICICIBANK', 'POWERGRID', 3), ('ICICIBANK', 'TITAN', 3), ('INDUSINDBK', 'M&M', 3), ('INDUSINDBK', 'TATAMOTORS', 3), ('INDUSINDBK', 'TITAN', 3), ('INFY', 'TCS', 3), ('JSWSTEEL', 'TATAMOTORS', 3), ('LTIM', 'TCS', 3), ('MARUTI', 'NTPC', 3), ('MARUTI', 'POWERGRID', 3), ('MARUTI', 'SBIN', 3), ('MARUTI', 'SUNPHARMA', 3), ('MARUTI', 'TITAN', 3), ('NESTLEIND', 'POWERGRID', 3), ('NESTLEIND', 'TATAMOTORS', 3), ('NESTLEIND', 'TITAN', 3), ('ONGC', 'SBILIFE', 3), ('ONGC', 'SBIN', 3), ('ONGC', 'TATAMOTORS', 3), ('POWERGRID', 'SBIN', 3), ('POWERGRID', 'SUNPHARMA', 3), ('POWERGRID', 'TITAN', 3), ('RELIANCE', 'TATACONSUM', 3), ('RELIANCE', 'TITAN', 3), ('SBILIFE', 'SUNPHARMA', 3), ('SBILIFE', 'TATAMOTORS', 3), ('SBILIFE', 'TITAN', 3), ('SHRIRAMFIN', 'ULTRACEMCO', 3), ('TCS', 'TATASTEEL', 3), ('TATAMOTORS', 'TITAN', 3)]\n"
     ]
    }
   ],
   "source": [
    "print([pair for pair in sorted(list_of_pairs, key=lambda x: x[2], reverse=True) if pair[2] >= 3])"
   ]
  },
  {
   "cell_type": "markdown",
   "metadata": {},
   "source": [
    "\n",
    "<div style=\"text-align: center\">⁂</div>\n",
    "\n",
    "[^1]: https://www.sbilife.co.in/en/learn/partners\n",
    "\n",
    "[^2]: https://www.youtube.com/watch?v=Akfqq6NvqxY\n",
    "\n",
    "[^3]: https://zerodha.com/varsity/chapter/the-pair-trade/\n",
    "\n",
    "[^4]: https://economictimes.com/markets/stocks/news/market-trading-guide-ril-bpcl-among-5-stock-recommendations-for-monday/buy-reliance-industries-at-rs-3052/slideshow/113781544.cms\n",
    "\n",
    "[^5]: https://www.business-standard.com/markets/news/rec-ntpc-powergrid-are-power-stocks-losing-steam-here-s-what-charts-say-125051400576_1.html\n",
    "\n",
    "[^6]: https://en.wikipedia.org/wiki/SBI_Life_Insurance_Company\n",
    "\n",
    "[^7]: https://www.bajajfinserv.in/bajaj-finserv-vs-bajaj-finance\n",
    "\n",
    "[^8]: https://portfolioslab.com/tools/stock-comparison/BPCL.NS/RELIANCE.BO\n",
    "\n",
    "[^9]: https://www.businesstoday.in/markets/company-stock/story/ntpc-vs-power-grid-shares-rise-outlook-target-price-349504-2022-10-11\n",
    "\n",
    "[^10]: https://www.crisil.com/mnt/winshare/Ratings/RatingList/RatingDocs/SBILifeInsuranceCompanyLimited_May%2010_%202024_RR_342802.html\n",
    "\n",
    "[^11]: https://upstox.com/news/market-news/stocks/how-bajaj-finance-and-bajaj-finserv-defied-market-slumps-to-deliver-consistent-growth/article-154913/\n",
    "\n",
    "[^12]: https://www.ijfmr.com/papers/2024/2/15313.pdf\n",
    "\n",
    "[^13]: https://adityatrading.in/posts/comparing-powergrid-and-ntpc-insights-for-investors/\n",
    "\n",
    "[^14]: https://portfolioslab.com/tools/stock-comparison/INFY/TCS.NS\n",
    "\n",
    "[^15]: https://enrichmoney.in/blog-article/pairs-trading\n",
    "\n",
    "[^16]: https://www.moneycontrol.com/india/stockpricequote/lifehealth-insurance/sbilifeinsurancecompany/SLI03\n",
    "\n",
    "[^17]: https://www.sbilife.co.in\n",
    "\n",
    "[^18]: https://economictimes.indiatimes.com/sbi-life-insurance-company-ltd/stocks/companyid-2898.cms\n",
    "\n",
    "[^19]: https://www.cnbctv18.com/market/investic-initiates-fast-pair-trade-long-sbi-life-short-icici-prudential-life-19539593.htm\n",
    "\n",
    "[^20]: https://www.equitypandit.com/sbi-life-share-price/\n",
    "\n",
    "[^21]: https://www.screener.in/company/SBILIFE/\n",
    "\n",
    "[^22]: https://www.macroaxis.com/invest/pair-correlation/SBILIFE.NSE/MAXHEALTH.NSE/SBI-vs-Max\n",
    "\n",
    "[^23]: https://www.business-standard.com/companies/news/tcs-partners-with-ai-firm-vianai-systems-founded-by-vishal-sikka-125041700941_1.html\n",
    "\n",
    "[^24]: https://ticker.finology.in/company/SBILIFE\n",
    "\n",
    "[^25]: https://www.macroaxis.com/invest/marketCorrelation/SBILIFE.NSE--SBI-Life-Insurance\n",
    "\n",
    "[^26]: https://www.macroaxis.com/invest/pair-correlation/SBILIFE.NSE/21STCENMGM.NSE/SBI-vs-21st\n",
    "\n",
    "[^27]: https://www.macroaxis.com/invest/pair-correlation/EEW.STU/A4XA.F/SBI-vs-American\n",
    "\n",
    "[^28]: https://mvgrexams.com/video/Macro-Trends-and-Their-Impact-on-SBI-Life-Insurance-Company-Limited-(540719)\n",
    "\n",
    "[^29]: https://www.tijorifinance.com/company/sbi-life-insurance-company-limited/\n",
    "\n",
    "[^30]: https://www.smart-investing.in/main.php?Company=BAJAJ+FINANCE+LTD\n",
    "\n",
    "[^31]: https://in.tradingview.com/symbols/BSE-SBILIFE/ideas/\n",
    "\n",
    "[^32]: https://www.tradingview.com/symbols/NSE-SBILIFE/ideas/\n",
    "\n",
    "[^33]: https://www.sbilife.co.in/en/individual-life-insurance/savings-plans\n",
    "\n",
    "[^34]: https://in.investing.com/equities/sbi-life-insurance"
   ]
  },
  {
   "cell_type": "markdown",
   "metadata": {},
   "source": [
    "SBILIFE and SBIN\n",
    "\n",
    "BAJFINANCE and BAJAJFINSV\n",
    "\n",
    "INFY and TCS\n",
    "\n",
    "RELIANCE and BPCL\n",
    "\n",
    "POWERGRID and NTPC"
   ]
  },
  {
   "cell_type": "code",
   "execution_count": null,
   "metadata": {},
   "outputs": [],
   "source": [
    "\n",
    "def dax_retail_state_handler(self, retail_state: RS) -> float:\n",
    "        ask_res_5 = sum(retail_state.ask_volumes[:5])\n",
    "        bid_res_5 = sum(retail_state.bid_volumes[:5])\n",
    "        net_res = bid_res_5 - ask_res_5\n",
    "        \n",
    "        price_changes = [retail_state.ask_prices[i+1] - retail_state.ask_prices[i] \n",
    "                         for i in range(len(retail_state.ask_prices) - 1)]\n",
    "        mean_change = sum(price_changes) / len(price_changes)\n",
    "        variance = sum((x - mean_change) ** 2 for x in price_changes) / (len(price_changes) - 1)\n",
    "        std_dev_of_ask_changes = variance ** 0.5\n",
    "        \n",
    "        \n",
    "        price_changes_2 = [retail_state.bid_prices[i+1] - retail_state.bid_prices[i] \n",
    "                         for i in range(len(retail_state.bid_prices) - 1)]\n",
    "        mean_change_2 = sum(price_changes_2) / len(price_changes_2)\n",
    "        variance_2 = sum((x - mean_change_2) ** 2 for x in price_changes_2) / (len(price_changes_2) - 1)\n",
    "        std_dev_of_bid_changes = variance_2 ** 0.5\n",
    "        \n",
    "        mid_price = (retail_state.best_bid_price + retail_state.best_ask_price)/2\n",
    "        \n",
    "        if net_res > 0:\n",
    "            max_std_div = retail_state.ask_prices[4] - retail_state.ask_prices[0]\n",
    "            if max_std_div == 0:\n",
    "                max_std_div = 1e-6\n",
    "\n",
    "            price_diff = retail_state.ask_prices[-1] - retail_state.ask_prices[0]\n",
    "            self.valuation = mid_price + std_dev_of_ask_changes * (price_diff / max_std_div)\n",
    "    \n",
    "        elif net_res < 0:\n",
    "            max_std_div = retail_state.bid_prices[4] - retail_state.bid_prices[0]\n",
    "            if max_std_div == 0:\n",
    "                max_std_div = 1e-6\n",
    "\n",
    "            price_diff = retail_state.bid_prices[-1] - retail_state.bid_prices[0]\n",
    "            self.valuation = mid_price - std_dev_of_bid_changes * (price_diff / max_std_div)\n",
    "        \n",
    "        elif net_res == 0:\n",
    "            self.valuation = mid_price\n",
    "        \n",
    "        \n",
    "        return self.valuation"
   ]
  },
  {
   "cell_type": "code",
   "execution_count": null,
   "metadata": {},
   "outputs": [],
   "source": [
    "class energy_math(Strategy):\n",
    "    def __init__(self):\n",
    "        self.valuation = 0\n",
    "        self.last_traded_price = 0\n",
    "\n",
    "    def dax_retail_state_handler(self, retail_state: RS) -> float:\n",
    "        ask_res_5 = sum(retail_state.ask_volumes[:5])\n",
    "        bid_res_5 = sum(retail_state.bid_volumes[:5])\n",
    "        net_res = bid_res_5 - ask_res_5\n",
    "        \n",
    "        price_changes = [retail_state.ask_prices[i+1] - retail_state.ask_prices[i] \n",
    "                         for i in range(len(retail_state.ask_prices) - 1)]\n",
    "        mean_change = sum(price_changes) / len(price_changes)\n",
    "        variance = sum((x - mean_change) ** 2 for x in price_changes) / (len(price_changes) - 1)\n",
    "        std_dev_of_ask_changes = variance ** 0.5\n",
    "        \n",
    "        \n",
    "        price_changes_2 = [retail_state.bid_prices[i+1] - retail_state.bid_prices[i] \n",
    "                         for i in range(len(retail_state.bid_prices) - 1)]\n",
    "        mean_change_2 = sum(price_changes_2) / len(price_changes_2)\n",
    "        variance_2 = sum((x - mean_change_2) ** 2 for x in price_changes_2) / (len(price_changes_2) - 1)\n",
    "        std_dev_of_bid_changes = variance_2 ** 0.5\n",
    "        \n",
    "        mid_price = (retail_state.best_bid_price + retail_state.best_ask_price)/2\n",
    "        \n",
    "        if net_res > 0:\n",
    "            max_std_div = retail_state.ask_prices[4] - retail_state.ask_prices[0]\n",
    "            if max_std_div == 0:\n",
    "                max_std_div = 1e-6\n",
    "\n",
    "            price_diff = retail_state.ask_prices[-1] - retail_state.ask_prices[0]\n",
    "            self.valuation = mid_price + std_dev_of_ask_changes * (price_diff / max_std_div)\n",
    "    \n",
    "        elif net_res < 0:\n",
    "            max_std_div = retail_state.bid_prices[4] - retail_state.bid_prices[0]\n",
    "            if max_std_div == 0:\n",
    "                max_std_div = 1e-6\n",
    "\n",
    "            price_diff = retail_state.bid_prices[-1] - retail_state.bid_prices[0]\n",
    "            self.valuation = mid_price - std_dev_of_bid_changes * (price_diff / max_std_div)\n",
    "        \n",
    "        elif net_res == 0:\n",
    "            self.valuation = mid_price\n",
    "        \n",
    "        \n",
    "        return self.valuation\n",
    "\n",
    "    def dax_last_done_handler(self, last_done: LD) -> Tuple[float, int]:\n",
    "        self.last_traded_price = last_done.price\n",
    "        return self.valuation, 0 # dax_last_done_handler returns two values, first is the valuation"
   ]
  },
  {
   "cell_type": "markdown",
   "metadata": {},
   "source": [
    "```math\n",
    "\\text{ask\\_res}_5 = \\sum_{i=0}^{4} V^a_i\n",
    "```\n",
    "\n",
    "```math\n",
    "\\text{bid\\_res}_5 = \\sum_{i=0}^{4} V^b_i\n",
    "```\n",
    "\n",
    "```math\n",
    "\\text{net\\_res} = \\text{bid\\_res}_5 - \\text{ask\\_res}_5\n",
    "```\n",
    "\n",
    "```math\n",
    "\\Delta A_i = A_{i+1} - A_i\n",
    "```\n",
    "\n",
    "```math\n",
    "\\mu_a = \\frac{1}{n-1} \\sum_{i=0}^{n-2} \\Delta A_i\n",
    "```\n",
    "\n",
    "```math\n",
    "\\sigma_a = \\sqrt{ \\frac{1}{n-2} \\sum_{i=0}^{n-2} (\\Delta A_i - \\mu_a)^2 }\n",
    "```\n",
    "\n",
    "```math\n",
    "\\Delta B_i = B_{i+1} - B_i\n",
    "```\n",
    "\n",
    "```math\n",
    "\\mu_b = \\frac{1}{n-1} \\sum_{i=0}^{n-2} \\Delta B_i\n",
    "```\n",
    "\n",
    "```math\n",
    "\\sigma_b = \\sqrt{ \\frac{1}{n-2} \\sum_{i=0}^{n-2} (\\Delta B_i - \\mu_b)^2 }\n",
    "```\n",
    "\n",
    "```math\n",
    "\\text{mid\\_price} = \\frac{A_0 + B_0}{2}\n",
    "```\n",
    "\n",
    "```math\n",
    "\\text{If } \\text{net\\_res} > 0:\n",
    "\\quad\n",
    "\\text{valuation} = \\text{mid\\_price} + \\sigma_a \\cdot \\left( \\frac{A_{n-1} - A_0}{A_4 - A_0 + \\varepsilon} \\right)\n",
    "```\n",
    "\n",
    "```math\n",
    "\\text{If } \\text{net\\_res} < 0:\n",
    "\\quad\n",
    "\\text{valuation} = \\text{mid\\_price} - \\sigma_b \\cdot \\left( \\frac{B_{n-1} - B_0}{B_4 - B_0 + \\varepsilon} \\right)\n",
    "```\n"
   ]
  },
  {
   "cell_type": "markdown",
   "metadata": {},
   "source": []
  }
 ],
 "metadata": {
  "kernelspec": {
   "display_name": "Python 3",
   "language": "python",
   "name": "python3"
  },
  "language_info": {
   "codemirror_mode": {
    "name": "ipython",
    "version": 3
   },
   "file_extension": ".py",
   "mimetype": "text/x-python",
   "name": "python",
   "nbconvert_exporter": "python",
   "pygments_lexer": "ipython3",
   "version": "3.8.20"
  }
 },
 "nbformat": 4,
 "nbformat_minor": 2
}
